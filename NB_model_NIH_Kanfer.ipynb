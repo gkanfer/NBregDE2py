{
 "cells": [
  {
   "cell_type": "code",
   "execution_count": 3,
   "id": "f4b1eaf9",
   "metadata": {},
   "outputs": [],
   "source": [
    "import numpy as np\n",
    "import os\n",
    "import pandas as pd\n",
    "import matplotlib as plt\n",
    "import random\n",
    "import matplotlib.pyplot as plt\n",
    "import seaborn as sns\n",
    "import matplotlib.pyplot as plt\n",
    "from matplotlib.colors import to_rgba\n",
    "import seaborn as sns\n",
    "import glob\n",
    "import re"
   ]
  },
  {
   "cell_type": "markdown",
   "id": "0d607ea5",
   "metadata": {},
   "source": [
    "We aim to calculate and rank the fold change of each Gene between the control and treatment groups to better understand the source of dispersion, which could be attributed to the effect of samples and sgRNA on Gene readcount."
   ]
  },
  {
   "cell_type": "code",
   "execution_count": 50,
   "id": "2b28f333",
   "metadata": {},
   "outputs": [
    {
     "name": "stdout",
     "output_type": "stream",
     "text": [
      "/Users/kanferg/Desktop/NIH_Youle/Colobration/Peroxisome_Project/AIPS_simulation\r\n"
     ]
    }
   ],
   "source": [
    "!pwd"
   ]
  },
  {
   "cell_type": "markdown",
   "id": "ae667878",
   "metadata": {},
   "source": [
    "Loading table:"
   ]
  },
  {
   "cell_type": "code",
   "execution_count": 45,
   "id": "72248420",
   "metadata": {},
   "outputs": [
    {
     "data": {
      "text/html": [
       "<div>\n",
       "<style scoped>\n",
       "    .dataframe tbody tr th:only-of-type {\n",
       "        vertical-align: middle;\n",
       "    }\n",
       "\n",
       "    .dataframe tbody tr th {\n",
       "        vertical-align: top;\n",
       "    }\n",
       "\n",
       "    .dataframe thead th {\n",
       "        text-align: right;\n",
       "    }\n",
       "</style>\n",
       "<table border=\"1\" class=\"dataframe\">\n",
       "  <thead>\n",
       "    <tr style=\"text-align: right;\">\n",
       "      <th></th>\n",
       "      <th>Gene</th>\n",
       "      <th>variable</th>\n",
       "      <th>value</th>\n",
       "    </tr>\n",
       "  </thead>\n",
       "  <tbody>\n",
       "    <tr>\n",
       "      <th>0</th>\n",
       "      <td>AAAS</td>\n",
       "      <td>1_ctrl</td>\n",
       "      <td>14</td>\n",
       "    </tr>\n",
       "    <tr>\n",
       "      <th>1</th>\n",
       "      <td>AAAS</td>\n",
       "      <td>1_ctrl</td>\n",
       "      <td>37</td>\n",
       "    </tr>\n",
       "    <tr>\n",
       "      <th>2</th>\n",
       "      <td>ABCA8</td>\n",
       "      <td>1_ctrl</td>\n",
       "      <td>12</td>\n",
       "    </tr>\n",
       "    <tr>\n",
       "      <th>3</th>\n",
       "      <td>ABCA8</td>\n",
       "      <td>1_ctrl</td>\n",
       "      <td>42</td>\n",
       "    </tr>\n",
       "    <tr>\n",
       "      <th>4</th>\n",
       "      <td>ABCB4</td>\n",
       "      <td>1_ctrl</td>\n",
       "      <td>11</td>\n",
       "    </tr>\n",
       "    <tr>\n",
       "      <th>...</th>\n",
       "      <td>...</td>\n",
       "      <td>...</td>\n",
       "      <td>...</td>\n",
       "    </tr>\n",
       "    <tr>\n",
       "      <th>23845</th>\n",
       "      <td>ZNF502</td>\n",
       "      <td>6_activate</td>\n",
       "      <td>3</td>\n",
       "    </tr>\n",
       "    <tr>\n",
       "      <th>23846</th>\n",
       "      <td>ZNF563</td>\n",
       "      <td>6_activate</td>\n",
       "      <td>5</td>\n",
       "    </tr>\n",
       "    <tr>\n",
       "      <th>23847</th>\n",
       "      <td>ZNF607</td>\n",
       "      <td>6_activate</td>\n",
       "      <td>1</td>\n",
       "    </tr>\n",
       "    <tr>\n",
       "      <th>23848</th>\n",
       "      <td>ZNF607</td>\n",
       "      <td>6_activate</td>\n",
       "      <td>2</td>\n",
       "    </tr>\n",
       "    <tr>\n",
       "      <th>23849</th>\n",
       "      <td>ZSCAN20</td>\n",
       "      <td>6_activate</td>\n",
       "      <td>5</td>\n",
       "    </tr>\n",
       "  </tbody>\n",
       "</table>\n",
       "<p>23850 rows × 3 columns</p>\n",
       "</div>"
      ],
      "text/plain": [
       "          Gene    variable  value\n",
       "0         AAAS      1_ctrl     14\n",
       "1         AAAS      1_ctrl     37\n",
       "2        ABCA8      1_ctrl     12\n",
       "3        ABCA8      1_ctrl     42\n",
       "4        ABCB4      1_ctrl     11\n",
       "...        ...         ...    ...\n",
       "23845   ZNF502  6_activate      3\n",
       "23846   ZNF563  6_activate      5\n",
       "23847   ZNF607  6_activate      1\n",
       "23848   ZNF607  6_activate      2\n",
       "23849  ZSCAN20  6_activate      5\n",
       "\n",
       "[23850 rows x 3 columns]"
      ]
     },
     "execution_count": 45,
     "metadata": {},
     "output_type": "execute_result"
    }
   ],
   "source": [
    "dfTall = pd.read_csv('dfTall.csv')\n",
    "dfTall = dfTall.drop(columns='Unnamed: 0')\n",
    "dfTall"
   ]
  },
  {
   "cell_type": "markdown",
   "id": "4952ab42",
   "metadata": {},
   "source": [
    "### Data structure:"
   ]
  },
  {
   "cell_type": "markdown",
   "id": "79f2df24",
   "metadata": {},
   "source": [
    "Value - Read count per sgRNA (indexed numerically)\\\n",
    "Gene - Each sgRNA targets a unique gene; for example, sgRNA[0] and [1] target Gene AAAS\\\n",
    "Condition - 0 represents the read counts of the control, while 1 represents the read counts of the treated (Activated)\\\n",
    "Variable - Six samples, with three in the control group and three in the treated group"
   ]
  },
  {
   "cell_type": "markdown",
   "id": "1759d81b",
   "metadata": {},
   "source": [
    "### Design Matrix"
   ]
  },
  {
   "cell_type": "code",
   "execution_count": 44,
   "id": "6ea11160",
   "metadata": {},
   "outputs": [
    {
     "name": "stdout",
     "output_type": "stream",
     "text": [
      "Xcond: (23850, 2), Xgenes: (23850, 1954), Xsamples: (23850, 6)\n",
      "ncondition: 2, ngenes: 1954, nsamples: 6\n"
     ]
    }
   ],
   "source": [
    "dfTall['Condition'] = 1\n",
    "dfTall.loc[dfTall.variable.str.contains('ctrl'),'Condition'] = 0\n",
    "idxCtrl = dfTall.loc[dfTall.Condition == 0,:].index\n",
    "idxActive = dfTall.loc[dfTall.Condition == 1,:].index\n",
    "dfTall_oneHot = pd.get_dummies(dfTall, columns = ['Condition','variable','Gene'])\n",
    "\n",
    "arr = dfTall_oneHot.iloc[:].to_numpy() #(23850 rows × 1963 columns)\n",
    "# design condtion\n",
    "Xcond = arr[:,1:3] #(23850, 2)\n",
    "# design Genes\n",
    "Xgenes = arr[:,9:] #(46236, 1954)\n",
    "# design samles\n",
    "Xsamples = arr[:,3:9] #(46236, 6)\n",
    "\n",
    "Y = arr[:,0]\n",
    "\n",
    "arrDisp = Xsamples\n",
    "ngenes = np.shape(Xgenes)[1]\n",
    "nsamples = np.shape(Xsamples)[1]\n",
    "ncondition = np.shape(Xcond)[1] #intercept\n",
    "print(f'Xcond: {Xcond.shape}, Xgenes: {Xgenes.shape}, Xsamples: {Xsamples.shape}')\n",
    "print(f'ncondition: {ncondition}, ngenes: {ngenes}, nsamples: {nsamples}')"
   ]
  }
 ],
 "metadata": {
  "kernelspec": {
   "display_name": "Python 3 (ipykernel)",
   "language": "python",
   "name": "python3"
  },
  "language_info": {
   "codemirror_mode": {
    "name": "ipython",
    "version": 3
   },
   "file_extension": ".py",
   "mimetype": "text/x-python",
   "name": "python",
   "nbconvert_exporter": "python",
   "pygments_lexer": "ipython3",
   "version": "3.8.13"
  },
  "varInspector": {
   "cols": {
    "lenName": 16,
    "lenType": 16,
    "lenVar": 40
   },
   "kernels_config": {
    "python": {
     "delete_cmd_postfix": "",
     "delete_cmd_prefix": "del ",
     "library": "var_list.py",
     "varRefreshCmd": "print(var_dic_list())"
    },
    "r": {
     "delete_cmd_postfix": ") ",
     "delete_cmd_prefix": "rm(",
     "library": "var_list.r",
     "varRefreshCmd": "cat(var_dic_list()) "
    }
   },
   "types_to_exclude": [
    "module",
    "function",
    "builtin_function_or_method",
    "instance",
    "_Feature"
   ],
   "window_display": false
  }
 },
 "nbformat": 4,
 "nbformat_minor": 5
}
