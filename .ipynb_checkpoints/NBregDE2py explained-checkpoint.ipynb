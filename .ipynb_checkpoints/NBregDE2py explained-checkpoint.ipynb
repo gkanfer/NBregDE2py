{
 "cells": [
  {
   "cell_type": "markdown",
   "id": "62ca22fa",
   "metadata": {},
   "source": [
    "# Applying NBregDE2 in Python"
   ]
  },
  {
   "cell_type": "markdown",
   "id": "76cb54f9",
   "metadata": {},
   "source": [
    "Using AIPS, a CRISPR screen combined with high-throughput imaging analysis and advanced phenotypic detection algorithm was employed to identify genes related to a specific subset of phenotype. After sorting for the desired cells, Next Generation Sequencing (NGS) was performed to detect sgRNA. Typically, the screen yielded approximately 10,000 sgRNA targeting 2000 genes."
   ]
  },
  {
   "cell_type": "markdown",
   "id": "f3687a04",
   "metadata": {},
   "source": [
    "DOI: 10.1083/jcb.202006180\n",
    "https://pubmed.ncbi.nlm.nih.gov/33464298/"
   ]
  },
  {
   "cell_type": "markdown",
   "id": "ee413d55",
   "metadata": {},
   "source": [
    "For for reducing complexity I've made a example data set:"
   ]
  },
  {
   "cell_type": "code",
   "execution_count": 1,
   "id": "cc50413c",
   "metadata": {},
   "outputs": [
    {
     "data": {
      "text/html": [
       "<div>\n",
       "<style scoped>\n",
       "    .dataframe tbody tr th:only-of-type {\n",
       "        vertical-align: middle;\n",
       "    }\n",
       "\n",
       "    .dataframe tbody tr th {\n",
       "        vertical-align: top;\n",
       "    }\n",
       "\n",
       "    .dataframe thead th {\n",
       "        text-align: right;\n",
       "    }\n",
       "</style>\n",
       "<table border=\"1\" class=\"dataframe\">\n",
       "  <thead>\n",
       "    <tr style=\"text-align: right;\">\n",
       "      <th></th>\n",
       "      <th>Unnamed: 0</th>\n",
       "      <th>Gene</th>\n",
       "      <th>sgRNA</th>\n",
       "      <th>1</th>\n",
       "      <th>2</th>\n",
       "      <th>3</th>\n",
       "      <th>4</th>\n",
       "      <th>5</th>\n",
       "      <th>6</th>\n",
       "    </tr>\n",
       "  </thead>\n",
       "  <tbody>\n",
       "    <tr>\n",
       "      <th>0</th>\n",
       "      <td>0</td>\n",
       "      <td>2</td>\n",
       "      <td>1</td>\n",
       "      <td>2</td>\n",
       "      <td>2</td>\n",
       "      <td>2</td>\n",
       "      <td>26</td>\n",
       "      <td>7</td>\n",
       "      <td>35</td>\n",
       "    </tr>\n",
       "    <tr>\n",
       "      <th>1</th>\n",
       "      <td>1</td>\n",
       "      <td>2</td>\n",
       "      <td>2</td>\n",
       "      <td>17</td>\n",
       "      <td>13</td>\n",
       "      <td>26</td>\n",
       "      <td>6</td>\n",
       "      <td>3</td>\n",
       "      <td>23</td>\n",
       "    </tr>\n",
       "    <tr>\n",
       "      <th>2</th>\n",
       "      <td>2</td>\n",
       "      <td>1</td>\n",
       "      <td>3</td>\n",
       "      <td>6</td>\n",
       "      <td>8</td>\n",
       "      <td>2</td>\n",
       "      <td>2</td>\n",
       "      <td>2</td>\n",
       "      <td>45</td>\n",
       "    </tr>\n",
       "    <tr>\n",
       "      <th>3</th>\n",
       "      <td>3</td>\n",
       "      <td>1</td>\n",
       "      <td>4</td>\n",
       "      <td>4</td>\n",
       "      <td>2</td>\n",
       "      <td>7</td>\n",
       "      <td>5</td>\n",
       "      <td>3</td>\n",
       "      <td>7</td>\n",
       "    </tr>\n",
       "  </tbody>\n",
       "</table>\n",
       "</div>"
      ],
      "text/plain": [
       "   Unnamed: 0  Gene  sgRNA   1   2   3   4  5   6\n",
       "0           0     2      1   2   2   2  26  7  35\n",
       "1           1     2      2  17  13  26   6  3  23\n",
       "2           2     1      3   6   8   2   2  2  45\n",
       "3           3     1      4   4   2   7   5  3   7"
      ]
     },
     "execution_count": 1,
     "metadata": {},
     "output_type": "execute_result"
    }
   ],
   "source": [
    "import pandas as pd\n",
    "import numpy as np\n",
    "from scipy.special import digamma\n",
    "from NBreg_VB import NBreg_VB\n",
    "from pypolyagamma import PyPolyaGamma\n",
    "from utils import multi_pgdraw, CRT, logOnePlusExp\n",
    "from numpy import linalg as LA\n",
    "\n",
    "dfPexorig_wide = pd.read_csv(\"dfPexorig_wide.csv\")\n",
    "dfPexorig_wide"
   ]
  },
  {
   "cell_type": "markdown",
   "id": "47d965ba",
   "metadata": {},
   "source": [
    "Six observations were sampled per sgRNA (1, 2, 3, 4, 5, 6) for two Gens (K) (2 and 1), each targeted by two unique sgRNAs. Samples 1, 2, and 3 constituted the control pooled group (V1), and samples 4, 5, and 6 constituted the treated group (V2)."
   ]
  },
  {
   "cell_type": "markdown",
   "id": "2be62d5c",
   "metadata": {},
   "source": [
    "## Design matrix (X)\n",
    "columns - samples (J)\\\n",
    "rows - Group (V)"
   ]
  },
  {
   "cell_type": "code",
   "execution_count": 2,
   "id": "080598aa",
   "metadata": {},
   "outputs": [
    {
     "data": {
      "text/plain": [
       "array([[1., 1., 1., 1., 1., 1.],\n",
       "       [0., 0., 0., 1., 1., 1.]])"
      ]
     },
     "execution_count": 2,
     "metadata": {},
     "output_type": "execute_result"
    }
   ],
   "source": [
    "X = np.ones((6, 2))\n",
    "X[:3, 1] = 0\n",
    "X = np.transpose(X)\n",
    "X"
   ]
  },
  {
   "cell_type": "code",
   "execution_count": 3,
   "id": "4525485f",
   "metadata": {},
   "outputs": [],
   "source": [
    "counts = np.array(dfPexorig_wide.iloc[:, 3:])\n",
    "\n",
    "Collections = 1000\n",
    "Burnin = 1000"
   ]
  },
  {
   "cell_type": "markdown",
   "id": "50f8398c",
   "metadata": {},
   "source": [
    "Algorithm  translated from R by Dadaneh et al. https://doi.org/10.1093/bioinformatics/bty330"
   ]
  },
  {
   "cell_type": "code",
   "execution_count": 4,
   "id": "4bde59a0",
   "metadata": {},
   "outputs": [
    {
     "ename": "ValueError",
     "evalue": "lam value too large",
     "output_type": "error",
     "traceback": [
      "\u001b[0;31m---------------------------------------------------------------------------\u001b[0m",
      "\u001b[0;31mValueError\u001b[0m                                Traceback (most recent call last)",
      "Input \u001b[0;32mIn [4]\u001b[0m, in \u001b[0;36m<cell line: 32>\u001b[0;34m()\u001b[0m\n\u001b[1;32m     38\u001b[0m     \u001b[38;5;28;01mif\u001b[39;00m yr\u001b[38;5;241m.\u001b[39msize \u001b[38;5;241m==\u001b[39m \u001b[38;5;241m0\u001b[39m:\n\u001b[1;32m     39\u001b[0m         yr \u001b[38;5;241m=\u001b[39m \u001b[38;5;241m0\u001b[39m\n\u001b[0;32m---> 40\u001b[0m     part_one \u001b[38;5;241m=\u001b[39m \u001b[43mnp\u001b[49m\u001b[38;5;241;43m.\u001b[39;49m\u001b[43mrandom\u001b[49m\u001b[38;5;241;43m.\u001b[39;49m\u001b[43mpoisson\u001b[49m\u001b[43m(\u001b[49m\u001b[43msize\u001b[49m\u001b[43m \u001b[49m\u001b[38;5;241;43m=\u001b[39;49m\u001b[43m \u001b[49m\u001b[38;5;241;43m1\u001b[39;49m\u001b[43m,\u001b[49m\u001b[43mlam\u001b[49m\u001b[43m \u001b[49m\u001b[38;5;241;43m=\u001b[39;49m\u001b[43m \u001b[49m\u001b[43mr\u001b[49m\u001b[43m[\u001b[49m\u001b[43mz\u001b[49m\u001b[43m]\u001b[49m\u001b[43m \u001b[49m\u001b[38;5;241;43m*\u001b[39;49m\u001b[43m \u001b[49m\u001b[43mnp\u001b[49m\u001b[38;5;241;43m.\u001b[39;49m\u001b[43msum\u001b[49m\u001b[43m(\u001b[49m\u001b[43mdigamma\u001b[49m\u001b[43m(\u001b[49m\u001b[43myy\u001b[49m\u001b[43m \u001b[49m\u001b[38;5;241;43m+\u001b[39;49m\u001b[43m \u001b[49m\u001b[43mr\u001b[49m\u001b[43m[\u001b[49m\u001b[43mz\u001b[49m\u001b[43m]\u001b[49m\u001b[43m)\u001b[49m\u001b[43m)\u001b[49m\u001b[43m \u001b[49m\u001b[38;5;241;43m-\u001b[39;49m\u001b[43m \u001b[49m\u001b[38;5;28;43mlen\u001b[39;49m\u001b[43m(\u001b[49m\u001b[43myy\u001b[49m\u001b[43m)\u001b[49m\u001b[38;5;241;43m*\u001b[39;49m\u001b[43m \u001b[49m\u001b[43mdigamma\u001b[49m\u001b[43m(\u001b[49m\u001b[38;5;241;43m10000\u001b[39;49m\u001b[43m \u001b[49m\u001b[38;5;241;43m+\u001b[39;49m\u001b[43m \u001b[49m\u001b[43mr\u001b[49m\u001b[43m[\u001b[49m\u001b[43mz\u001b[49m\u001b[43m]\u001b[49m\u001b[43m)\u001b[49m\u001b[43m)\u001b[49m\n\u001b[1;32m     41\u001b[0m     ell[z] \u001b[38;5;241m=\u001b[39m CRT(yy[:, z], r[z]) \u001b[38;5;241m+\u001b[39m part_one\n\u001b[1;32m     42\u001b[0m r \u001b[38;5;241m=\u001b[39m np\u001b[38;5;241m.\u001b[39mrandom\u001b[38;5;241m.\u001b[39mgamma(scale\u001b[38;5;241m=\u001b[39mh \u001b[38;5;241m+\u001b[39m np\u001b[38;5;241m.\u001b[39msum(logOnePlusExp(Psi), axis\u001b[38;5;241m=\u001b[39m\u001b[38;5;241m0\u001b[39m), shape\u001b[38;5;241m=\u001b[39ma0 \u001b[38;5;241m+\u001b[39m ell, size\u001b[38;5;241m=\u001b[39mnsamples)\n",
      "File \u001b[0;32mmtrand.pyx:3595\u001b[0m, in \u001b[0;36mnumpy.random.mtrand.RandomState.poisson\u001b[0;34m()\u001b[0m\n",
      "File \u001b[0;32m_common.pyx:897\u001b[0m, in \u001b[0;36mnumpy.random._common.disc\u001b[0;34m()\u001b[0m\n",
      "File \u001b[0;32m_common.pyx:446\u001b[0m, in \u001b[0;36mnumpy.random._common.check_constraint\u001b[0;34m()\u001b[0m\n",
      "\u001b[0;31mValueError\u001b[0m: lam value too large"
     ]
    }
   ],
   "source": [
    "y = counts\n",
    "dd = np.shape(y)[0]  # K wise\n",
    "non_zero_rows = np.where(np.sum(y, axis=1) != 0)\n",
    "y = y[non_zero_rows]\n",
    "\n",
    "ngenes = np.shape(y)[0]\n",
    "nsamples = np.shape(y)[1]\n",
    "\n",
    "a0 = 0.01\n",
    "b0 = 0.01\n",
    "c0 = 0.01\n",
    "d0 = 0.01\n",
    "e0 = 0.01\n",
    "f0 = 0.01\n",
    "g0 = 0.01\n",
    "\n",
    "P = np.shape(X)[0]  # rows samples for the design matrix\n",
    "beta = np.zeros((P, ngenes))  # 4\n",
    "r = np.repeat(100, nsamples)\n",
    "h = 1\n",
    "alpha = np.repeat(100, P)\n",
    "Beta, sigmak, r, h, alpha = NBreg_VB(counts, X, 100)\n",
    "\n",
    "Psi = np.zeros((ngenes, nsamples))\n",
    "XYT = np.dot(X, np.transpose(y))\n",
    "beta_mean = np.zeros((P, ngenes))\n",
    "beta2_samples = np.zeros((ngenes, Collections))\n",
    "beta3_samples = np.zeros((ngenes, Collections))\n",
    "tehta_mean = np.zeros((ngenes, 2 * Collections))\n",
    "iterMax = Burnin + Collections\n",
    "yy = np.where(y > 10000, 10000, y)\n",
    "for iter in range(iterMax):\n",
    "    Psi = np.dot(np.transpose(Beta), X)\n",
    "    # Sample r_j\n",
    "    ell = np.repeat(0, nsamples)\n",
    "    for z in range(nsamples):\n",
    "        yr = y[y[:, z] > 10000, z]\n",
    "        if yr.size == 0:\n",
    "            yr = 0\n",
    "        part_one = np.random.poisson(size = 1,lam = r[z] * np.sum(digamma(yy + r[z])) - len(yy)* digamma(10000 + r[z]))\n",
    "        ell[z] = CRT(yy[:, z], r[z]) + part_one\n",
    "    r = np.random.gamma(scale=h + np.sum(logOnePlusExp(Psi), axis=0), shape=a0 + ell, size=nsamples)\n",
    "    # Sample alpha\n",
    "    alpha = np.random.gamma(size=P, shape=c0 + ngenes / 2, scale=d0 + 0.5 * np.sum(Beta ** 2, 1))\n",
    "    # Smple h\n",
    "    h = np.random.gamma(size=1, scale=b0 + nsamples * a0, shape=g0 + sum(r))\n",
    "    # np.random.poisson(1,r[j]*np.sum(digamma(yr+r[j]) - digamma(10000+r[j])))\n",
    "\n",
    "    # Sample omega\n",
    "    temp = y + np.repeat(r, ngenes).reshape((ngenes, nsamples))\n",
    "    pg = PyPolyaGamma()\n",
    "    omega = multi_pgdraw(pg, np.ravel(temp), np.ravel(Psi)).reshape((ngenes, nsamples))\n",
    "    if np.any(np.isnan(omega)):\n",
    "        omega[np.isnan(omega)] = np.mean(np.nanmean(omega))\n",
    "\n",
    "    # omega = multi_pgdraw(pg, np.ravel(Psi), np.ravel(temp)).reshape((ngenes,nsamples))\n",
    "\n",
    "    # Sample Beta, phi and Psi\n",
    "    A = np.diag(alpha)\n",
    "    for k in range(ngenes - 1):\n",
    "        _, v = LA.eig(A + X @ np.diag(omega[k,]) @ np.transpose(X))\n",
    "        if np.any(v < 0):\n",
    "            continue\n",
    "        else:\n",
    "            temp = np.linalg.cholesky(A + X @ np.diag(omega[k,]) @ np.transpose(X))\n",
    "            Beta[:, k] = temp @ (np.random.normal(0, 1, P) + np.transpose(temp)) @ (0.5 * (XYT[:, k] - X @ r))\n",
    "    if iter > Burnin:\n",
    "        beta_mean = beta_mean + Beta\n",
    "        tehta_mean[:, iter - Burnin] = np.exp(Beta[1, :])"
   ]
  },
  {
   "cell_type": "code",
   "execution_count": null,
   "id": "db0550fb",
   "metadata": {},
   "outputs": [],
   "source": []
  }
 ],
 "metadata": {
  "kernelspec": {
   "display_name": "Python 3 (ipykernel)",
   "language": "python",
   "name": "python3"
  },
  "language_info": {
   "codemirror_mode": {
    "name": "ipython",
    "version": 3
   },
   "file_extension": ".py",
   "mimetype": "text/x-python",
   "name": "python",
   "nbconvert_exporter": "python",
   "pygments_lexer": "ipython3",
   "version": "3.8.13"
  },
  "varInspector": {
   "cols": {
    "lenName": 16,
    "lenType": 16,
    "lenVar": 40
   },
   "kernels_config": {
    "python": {
     "delete_cmd_postfix": "",
     "delete_cmd_prefix": "del ",
     "library": "var_list.py",
     "varRefreshCmd": "print(var_dic_list())"
    },
    "r": {
     "delete_cmd_postfix": ") ",
     "delete_cmd_prefix": "rm(",
     "library": "var_list.r",
     "varRefreshCmd": "cat(var_dic_list()) "
    }
   },
   "types_to_exclude": [
    "module",
    "function",
    "builtin_function_or_method",
    "instance",
    "_Feature"
   ],
   "window_display": false
  }
 },
 "nbformat": 4,
 "nbformat_minor": 5
}
